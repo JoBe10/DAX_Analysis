{
 "cells": [
  {
   "cell_type": "markdown",
   "metadata": {},
   "source": [
    "This file is used to combine lines of code to make it easier to include them in my Medium blog post."
   ]
  },
  {
   "cell_type": "code",
   "execution_count": null,
   "metadata": {},
   "outputs": [],
   "source": [
    "import pandas_datareader as dr\n",
    "from datetime import datetime\n",
    "\n",
    "# Define start and end date\n",
    "end = datetime(2020, 7, 9)\n",
    "start = datetime(2015, 8, 6)\n",
    "\n",
    "# Create a list of the ticker symbols to be used in this project\n",
    "tickers = ['AMZN', 'GOOGL', 'JNJ', 'V', 'PG', 'UNH', 'JPM', 'HD', 'VZ', 'NFLX', 'DIS', 'MRK', 'PEP', 'BAC', 'KO', \n",
    "           'WMT','CVX', 'ABT', 'AMGN', 'MCD', 'COST', 'NKE', 'PM', 'QCOM', 'LOW', 'BA', 'LMT', 'SBUX', 'UPS', 'CAT']\n",
    "\n",
    "# Obtain the adjusted closing prices from Yahoo Finance\n",
    "prices = pd.DataFrame()\n",
    "for tick in tickers:\n",
    "    prices[tick] = data.DataReader(tick, data_source='yahoo', start=start, end=end)['Adj Close']\n",
    "prices.columns = tickers"
   ]
  },
  {
   "cell_type": "code",
   "execution_count": null,
   "metadata": {},
   "outputs": [],
   "source": [
    "# Define a function to generate N number of random portfolios given a DataFrame of returns\n",
    "def generate_ptfs(returns, N):\n",
    "    ptf_rs = []\n",
    "    ptf_stds = []\n",
    "    for i in range(N):\n",
    "        # Generate random weights between 0 and 1\n",
    "        weights = np.random.random(len(returns.columns))\n",
    "        # Ensure that the weights add up to 1\n",
    "        weights /= np.sum(weights)\n",
    "        # Append the portfolio return to the list of portfolio returns\n",
    "        ptf_rs.append(np.sum(returns.mean() * weights) * 252)\n",
    "        # Append the portfolio volatility to the list of portfolio volatilities\n",
    "        ptf_stds.append(np.sqrt(np.dot(weights.T, np.dot(returns.cov() * 252, weights))))\n",
    "    ptf_rs = np.array(ptf_rs)\n",
    "    ptf_stds = np.array(ptf_stds)\n",
    "    return ptf_rs, ptf_stds"
   ]
  },
  {
   "cell_type": "code",
   "execution_count": null,
   "metadata": {},
   "outputs": [],
   "source": [
    "# Import the optimise sublibrary\n",
    "import scipy.optimize as sco\n",
    "\n",
    "# Define a function that returns portfolio statistics given a list of weights\n",
    "def ptf_stats(weights):\n",
    "    weights = np.array(weights)\n",
    "    ptf_r = np.sum(log_r.mean() * weights) * 252\n",
    "    ptf_std = np.sqrt(np.dot(weights.T, np.dot(log_r.cov() * 252, weights)))\n",
    "    return np.array([ptf_r, ptf_std, (ptf_r - 0.01) / ptf_std])\n",
    "\n",
    "# Define a function that returns the volatility of a portfolio given a vector of weights\n",
    "def min_port(weights):\n",
    "    return ptf_stats(weights)[1]\n",
    "\n",
    "# Set up two conditions, one for the target return level and one for the sum of the portfolio weights\n",
    "cons2 = ({'type': 'eq', 'fun': lambda x: ptf_stats(x)[0] - r},\n",
    "        {'type': 'eq', 'fun': lambda x: np.sum(x) - 1})\n",
    "# ptf_stats(x)[0] - r is equivalent to writing ptf_stats(x)[0] == r \n",
    "\n",
    "# The boundary condition stays the same\n",
    "bnds2 = tuple((0, 1) for x in weights)\n",
    "\n",
    "# Define a function to get the target returns and volatilities given a range of returns\n",
    "def efficient_frontier(start_r, end_r, steps):\n",
    "    target_rs = np.linspace(start_r, end_r, steps)\n",
    "    target_stds = []\n",
    "    for r in target_rs:\n",
    "        cons2 = ({'type': 'eq', 'fun': lambda x: ptf_stats(x)[0] - r},\n",
    "                {'type': 'eq', 'fun': lambda x: np.sum(x) - 1})\n",
    "        bnds2 = tuple((0, 1) for x in weights)\n",
    "        res = sco.minimize(min_port, starting_ws, method='SLSQP', bounds = bnds2, constraints=cons2)\n",
    "        target_stds.append(res['fun'])\n",
    "    target_stds = np.array(target_stds)\n",
    "    return target_rs, target_stds"
   ]
  },
  {
   "cell_type": "code",
   "execution_count": null,
   "metadata": {},
   "outputs": [],
   "source": [
    "# Import cubic splines interpolation module\n",
    "import scipy.interpolate as sci\n",
    "\n",
    "# Select the index of the absolute minimum variance portfolio\n",
    "min_var = np.argmin(target_stds)\n",
    "\n",
    "# Select expected volatilities for the stocks on the efficient frontier\n",
    "ex_stds = target_stds[min_var:]\n",
    "\n",
    "# Select expected returns for the stocks on the efficient frontier\n",
    "ex_rs = target_rs[min_var:]\n",
    "\n",
    "# Interpolate the B-spline representation of the data points\n",
    "tck = sci.splrep(ex_stds, ex_rs)"
   ]
  },
  {
   "cell_type": "code",
   "execution_count": null,
   "metadata": {},
   "outputs": [],
   "source": [
    "# Define a continuously differentiable function f(x) for the efficient frontier\n",
    "def f(x):\n",
    "    return sci.splev(x, tck, der=0)\n",
    "\n",
    "# Define te first derivate function of f(x)\n",
    "def df(x):\n",
    "    return sci.splev(x, tck, der=1)\n",
    "\n",
    "# Set up a system of equations for the conditions that the CML has to satisfy\n",
    "def cml_conditions(p, rf=0.01):\n",
    "    eq1 = rf - p[0]\n",
    "    eq2 = rf + p[1] * p[2] - f(p[2])\n",
    "    eq3 = p[1] - df(p[2])\n",
    "    return eq1, eq2, eq3\n",
    "\n",
    "# Solve for the parameters of the Capital Market Line\n",
    "cml = sco.fsolve(cml_conditions, [0.01, 0.5, 0.15])"
   ]
  }
 ],
 "metadata": {
  "kernelspec": {
   "display_name": "Python 3",
   "language": "python",
   "name": "python3"
  },
  "language_info": {
   "codemirror_mode": {
    "name": "ipython",
    "version": 3
   },
   "file_extension": ".py",
   "mimetype": "text/x-python",
   "name": "python",
   "nbconvert_exporter": "python",
   "pygments_lexer": "ipython3",
   "version": "3.8.2"
  }
 },
 "nbformat": 4,
 "nbformat_minor": 4
}
