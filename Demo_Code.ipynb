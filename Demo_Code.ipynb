{
 "cells": [
  {
   "cell_type": "markdown",
   "metadata": {},
   "source": [
    "This file is used to combine lines of code to make it easier to include them in my Medium blog post."
   ]
  },
  {
   "cell_type": "code",
   "execution_count": null,
   "metadata": {},
   "outputs": [],
   "source": [
    "import pandas_datareader as dr\n",
    "from datetime import datetime\n",
    "\n",
    "# Define start and end date\n",
    "end = datetime(2020, 7, 9)\n",
    "start = datetime(2015, 8, 6)\n",
    "\n",
    "# Create a list of the ticker symbols to be used in this project\n",
    "tickers = ['AMZN', 'GOOGL', 'JNJ', 'V', 'PG', 'UNH', 'JPM', 'HD', 'VZ', 'NFLX', 'DIS', 'MRK', 'PEP', 'BAC', 'KO', \n",
    "           'WMT','CVX', 'ABT', 'AMGN', 'MCD', 'COST', 'NKE', 'PM', 'QCOM', 'LOW', 'BA', 'LMT', 'SBUX', 'UPS', 'CAT']\n",
    "\n",
    "# Obtain the adjusted closing prices from Yahoo Finance\n",
    "prices = pd.DataFrame()\n",
    "for tick in tickers:\n",
    "    prices[tick] = data.DataReader(tick, data_source='yahoo', start=start, end=end)['Adj Close']\n",
    "prices.columns = tickers"
   ]
  },
  {
   "cell_type": "code",
   "execution_count": null,
   "metadata": {},
   "outputs": [],
   "source": [
    "# Define a function to generate N number of random portfolios given a DataFrame of returns\n",
    "def generate_ptfs(returns, N):\n",
    "    ptf_rs = []\n",
    "    ptf_stds = []\n",
    "    for i in range(N):\n",
    "        # Generate random weights between 0 and 1\n",
    "        weights = np.random.random(len(returns.columns))\n",
    "        # Ensure that the weights add up to 1\n",
    "        weights /= np.sum(weights)\n",
    "        # Append the portfolio return to the list of portfolio returns\n",
    "        ptf_rs.append(np.sum(returns.mean() * weights) * 252)\n",
    "        # Append the portfolio volatility to the list of portfolio volatilities\n",
    "        ptf_stds.append(np.sqrt(np.dot(weights.T, np.dot(returns.cov() * 252, weights))))\n",
    "    ptf_rs = np.array(ptf_rs)\n",
    "    ptf_stds = np.array(ptf_stds)\n",
    "    return ptf_rs, ptf_stds"
   ]
  }
 ],
 "metadata": {
  "kernelspec": {
   "display_name": "Python 3",
   "language": "python",
   "name": "python3"
  },
  "language_info": {
   "codemirror_mode": {
    "name": "ipython",
    "version": 3
   },
   "file_extension": ".py",
   "mimetype": "text/x-python",
   "name": "python",
   "nbconvert_exporter": "python",
   "pygments_lexer": "ipython3",
   "version": "3.8.2"
  }
 },
 "nbformat": 4,
 "nbformat_minor": 4
}
